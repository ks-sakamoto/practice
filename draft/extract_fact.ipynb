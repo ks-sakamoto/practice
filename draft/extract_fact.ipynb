{
 "metadata": {
  "language_info": {
   "codemirror_mode": {
    "name": "ipython",
    "version": 3
   },
   "file_extension": ".py",
   "mimetype": "text/x-python",
   "name": "python",
   "nbconvert_exporter": "python",
   "pygments_lexer": "ipython3",
   "version": "3.9.0-final"
  },
  "orig_nbformat": 2,
  "kernelspec": {
   "name": "python3",
   "display_name": "Python 3.9.0 64-bit",
   "metadata": {
    "interpreter": {
     "hash": "ee442f0170ce6341464fbef4969b7200c1a6afaedc1ae4b7373123077a414cfb"
    }
   }
  }
 },
 "nbformat": 4,
 "nbformat_minor": 2,
 "cells": [
  {
   "cell_type": "code",
   "execution_count": 5,
   "metadata": {},
   "outputs": [],
   "source": [
    "def fact():\n",
    "        with open('Sample.dash', encoding='utf-8') as f:\n",
    "            data = [s.strip() for s in f.readlines()]\n",
    "            # data = f.read().replace('\\n', '')\n",
    "            # regex = re.compile('\\(property\\s*(\\(.*?\\))\\s*\\)')\n",
    "            # mm = regex.search(data)\n",
    "            # fact_pro = mm.group(1)\n",
    "\n",
    "            # regex = re.compile('\\(initial_facts\\s*(\\(.*?\\))\\s*\\)')\n",
    "            # mm = regex.search(data)\n",
    "            # fact_ini = mm.group(1)\n",
    "\n",
    "            # printではなくreturnさせてmainでprintさせるほうがいいっすね。byなかや\n",
    "            '''\n",
    "            print('property = ' + self.fact_pro)\n",
    "            print('initial_facts = ' + self.fact_ini)\n",
    "            '''\n",
    "            return fact_pro, fact_ini\n"
   ]
  },
  {
   "cell_type": "code",
   "execution_count": 20,
   "metadata": {},
   "outputs": [],
   "source": [
    "import re\n",
    "fact_pro = []"
   ]
  },
  {
   "cell_type": "code",
   "execution_count": 21,
   "metadata": {},
   "outputs": [
    {
     "output_type": "stream",
     "name": "stdout",
     "text": [
      "(create :author Taro)    (time :date \"Apr. 15, 2000\")\n"
     ]
    }
   ],
   "source": [
    "with open('Sample.dash', encoding='utf-8') as f:\n",
    "            data = f.read().replace('\\n', '')\n",
    "            regex = re.compile('\\(property\\s*(\\(.*?\\))\\s*\\)')\n",
    "            mm = regex.search(data)\n",
    "            s = mm.group(1)\n",
    "            print(s)"
   ]
  },
  {
   "cell_type": "code",
   "execution_count": 22,
   "metadata": {
    "tags": []
   },
   "outputs": [
    {
     "output_type": "stream",
     "name": "stdout",
     "text": [
      "['(create :author Taro)']\n['(create :author Taro)', '(time :date \"Apr. 15, 2000\")']\n"
     ]
    }
   ],
   "source": [
    "regex2 = re.compile('\\(.*?\\)')\n",
    "while True:\n",
    "    mmm = regex2.search(s)\n",
    "    if mmm is not None:\n",
    "        fact_pro.append(mmm.group(0))\n",
    "        print(fact_pro)\n",
    "        s = regex2.sub('', s, 1)\n",
    "    else:\n",
    "        break"
   ]
  },
  {
   "cell_type": "code",
   "execution_count": 53,
   "metadata": {},
   "outputs": [
    {
     "output_type": "execute_result",
     "data": {
      "text/plain": [
       "'(create :author Taro)'"
      ]
     },
     "metadata": {},
     "execution_count": 53
    }
   ],
   "source": [
    "mmm.group(0)"
   ]
  },
  {
   "cell_type": "code",
   "execution_count": null,
   "metadata": {},
   "outputs": [],
   "source": []
  }
 ]
}