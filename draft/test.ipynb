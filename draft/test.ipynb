{
 "metadata": {
  "language_info": {
   "codemirror_mode": {
    "name": "ipython",
    "version": 3
   },
   "file_extension": ".py",
   "mimetype": "text/x-python",
   "name": "python",
   "nbconvert_exporter": "python",
   "pygments_lexer": "ipython3",
   "version": 3
  },
  "orig_nbformat": 2,
  "kernelspec": {
   "name": "micropython",
   "display_name": "MicroPython - USB",
   "language": "micropython"
  }
 },
 "nbformat": 4,
 "nbformat_minor": 2,
 "cells": [
  {
   "cell_type": "code",
   "execution_count": 3,
   "metadata": {},
   "outputs": [
    {
     "output_type": "stream",
     "name": "stdout",
     "text": [
      "\u001b[34mConnecting to --port=COM3 --baud=115200 \u001b[0m\n",
      "I (160) wifi:wifi driver task: 3ffd1434, prio:23, stack:3584, core=0\n",
      "I (665) wifi:wifi firmware version: 44aa95c\n",
      "I (665) wifi:config NVS flash: enabled\n",
      "I (665) wifi:config nano formating: disabled\n",
      "I (665) wifi:Init dynamic tx buffer num: 32\n",
      "I (665) wifi:Init data frame dynamic rx buffer num: 32\n",
      "I (675) wifi:Init management frame dynamic rx buffer num: 32\n",
      "I (675) wifi:Init management short buffer num: 32\n",
      "I (685) wifi:Init static rx buffer size: 1600\n",
      "I (685) wifi:Init static rx buffer num: 10\n",
      "I (685) wifi:Init dynamic rx buffer num: 32\n",
      "Started webrepl in normal mode\n",
      "I (805) wifi:mode : softAP (30:ae:a4:12:32:85)\n",
      "I (805) wifi:Total power save buffer number: 16\n",
      "I (805) wifi:Init max length of beacon: 752/752\n",
      "I (805) wifi:Init max length of beacon: 752/752\n",
      "initialfacts = ['(place :from Japan :to Japan)', '(worker :name Suzuki :from USA)', '(Msg :from USA :content (\"author?\"))', '(obj1 :attr1 v1 :from \"Japan\")', '(obj2 :attr2 v2 :from \"Japan\")', '(obj1 :attr1 v2 :from \"Japan\")']\n",
      "property = ['(create :author \"Taro@CIT\")', '(time :date \"Apr. 15, 2000\")']\n",
      "joken = [['(obj1 :attr1 ?v :from ?from)', '(== ?v v2)', '(create :author \"Taro@CIT\")', '(obj2 :attr2 ?v :from ?from)', '(Msg :from USA :content ?content)'], ['(Msg :from ?from :content ?content)']]\n",
      "jikko = [['(send :performative inform :to ?v :content ?content)', '(make (hotel :name sss :city \"\\u4ed9\\u53f0\"))', '(remove ?msg)', '(modify ?fact:content (abc def))'], ['(send :performative sorry :to Japan :content content)']]\n",
      "\"v1\"==\"v2\"\n",
      "\"v2\"==\"v2\"\n",
      "actions = ['(send :performative inform :to ?v :content ?content)', '(make (hotel :name sss :city \"\\u4ed9\\u53f0\"))', '(remove ?msg)', '(modify ?fact:content (abc def))']\n",
      "vars = {'?v': ['v2'], '?from': ['\"Japan\"'], '?fact': ['(Msg :from USA :content ?content)'], '?content': ['(\"author?\")'], '?msg': ['(obj2 :attr2 ?v :from ?from)']}\n",
      "{':to': 'v2 ', ':performative': 'inform ', 'obj': 'send', ':content': '(\"author?\")'}\n",
      "{'obj': 'make', 1: '(hotel :name sss :city \"\\u4ed9\\u53f0\")'}\n",
      "['(place :from Japan :to Japan)', '(worker :name Suzuki :from USA)', '(Msg :from USA :content (\"author?\"))', '(obj1 :attr1 v1 :from \"Japan\")', '(obj2 :attr2 v2 :from \"Japan\")', '(obj1 :attr1 v2 :from \"Japan\")', '(hotel :name sss :city \"\\u4ed9\\u53f0\")']\n",
      "{'obj': 'remove', 1: '(obj2 :attr2 v2 :from \"Japan\")'}\n",
      "['(place :from Japan :to Japan)', '(worker :name Suzuki :from USA)', '(Msg :from USA :content (\"author?\"))', '(obj1 :attr1 v1 :from \"Japan\")', '(obj1 :attr1 v2 :from \"Japan\")', '(hotel :name sss :city \"\\u4ed9\\u53f0\")']\n",
      "{1: '?fact:content', 'obj': 'modify', 2: '(abc def)'}\n",
      "['(place :from Japan :to Japan)', '(worker :name Suzuki :from USA)', '(obj1 :attr1 v1 :from \"Japan\")', '(obj1 :attr1 v2 :from \"Japan\")', '(hotel :name sss :city \"\\u4ed9\\u53f0\")', '(Msg :from USA :content (abc def))']\n",
      "MicroPython v1.13 on 2020-09-02; ESP32 module with ESP32\n",
      "Type \"help()\" for more information.\n",
      ">>>[reboot detected 0]repl is in normal command mode\n",
      "[\\r\\x03\\x03] b'\\r\\n>>> '\n",
      "[\\r\\x01] b'\\r\\n>>> \\r\\nraw REPL; CTRL-B to exit\\r\\n>' \u001b[34mReady.\n",
      "\u001b[0m"
     ]
    }
   ],
   "source": [
    "%serialconnect COM3 --baud=115200"
   ]
  },
  {
   "cell_type": "code",
   "execution_count": null,
   "metadata": {},
   "outputs": [],
   "source": []
  }
 ]
}